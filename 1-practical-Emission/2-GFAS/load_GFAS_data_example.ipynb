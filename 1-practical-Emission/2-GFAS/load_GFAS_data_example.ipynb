{
 "cells": [
  {
   "cell_type": "markdown",
   "id": "2f1e285a-c911-4fa3-9577-8b87af9e13e5",
   "metadata": {},
   "source": [
    "<img style=\"float: left;\" src=\"../../images/logo.png\" width=\"400\"/>"
   ]
  },
  {
   "cell_type": "markdown",
   "id": "865d8057-2af8-40fe-a9e4-0110c9eb87e6",
   "metadata": {},
   "source": [
    "this code is aims at showing you where to find GFAS data and also have some understanding of the data used in the calculation."
   ]
  },
  {
   "cell_type": "markdown",
   "id": "811747c1-6109-464b-87ea-1a8d5d57ce6c",
   "metadata": {},
   "source": [
    "As an example we will focus here on CO emissions. \n",
    "As a recall the fire emission (E_CO for CO) calculation based on the FRP (as done in GFAS) reads like:\n",
    "E_CO = Converstion_factor * FRE * EF_CO\n",
    "where the burning dry matter (DM) is DM = Converstion_factor * FRE\n",
    "and FRE (Fire Radiative Power) is the time integration of FRP.\n",
    "\n",
    "Refer to [Kaiser et al 2012](https://bg.copernicus.org/articles/9/527/2012/) for GFAS algoritgm. \n",
    "\n",
    "To run this notebook you will need to get data that  \n",
    "- are available [here]() **not available yet**\n",
    "- or if you are on andromeda  you can set you directory data to `/data/IMFSE/FBM_unit05/GFAS`\n"
   ]
  },
  {
   "cell_type": "markdown",
   "id": "fb882cf5-3a7e-4919-a6fd-61d67914f131",
   "metadata": {},
   "source": [
    "we go throught the different terms of E_CO equation in what follows"
   ]
  },
  {
   "cell_type": "code",
   "execution_count": 1,
   "id": "b5010225-5cbe-4f4f-a122-8853e73ccbe6",
   "metadata": {},
   "outputs": [],
   "source": [
    "import numpy as np\n",
    "import pandas as pd\n",
    "import matplotlib.pyplot as plt\n",
    "import matplotlib as mpl\n",
    "from netCDF4 import Dataset\n",
    "import rioxarray\n",
    "import geopandas as gpd\n",
    "import scipy\n",
    "%matplotlib inline\n"
   ]
  },
  {
   "cell_type": "code",
   "execution_count": 2,
   "id": "df331aa6-1df1-4d36-b9bd-c11a432f282c",
   "metadata": {},
   "outputs": [],
   "source": [
    "directory    = '/data/IMFSE/FBM_unit05/Emission/GFAS/'"
   ]
  },
  {
   "cell_type": "markdown",
   "id": "037559cd-ab06-43df-b5e5-225b226ad951",
   "metadata": {},
   "source": [
    "## Read in Converstion Factor"
   ]
  },
  {
   "cell_type": "markdown",
   "id": "2d47fd07-60ba-473b-bee9-db5af3768439",
   "metadata": {},
   "source": [
    "The conversion factor are static and dependent of the land cover class."
   ]
  },
  {
   "cell_type": "code",
   "execution_count": null,
   "id": "d086841c-9a21-41ea-a7a4-16dcfd3b8edf",
   "metadata": {},
   "outputs": [],
   "source": []
  },
  {
   "cell_type": "code",
   "execution_count": null,
   "id": "5a3d2f94-de1d-44fa-b964-ac5318783470",
   "metadata": {},
   "outputs": [],
   "source": [
    "landCover = Dataset(directory+'GFED3_dominantBurningLC_version11112010_GAPFILLED.r720x360JUEL_EXTPEATOS.nc','r')\n",
    "burninLC = landCover.variables['dominantBurningLC'][0,:,:]\n",
    "cmap = plt.get_cmap('Set2', np.unique(burninLC).shape[0]-1) # remove 0\n",
    "im = plt.imshow(np.ma.masked_where( burninLC==0, burninLC),origin='lower',cmap=cmap, vmin=0.5, vmax=8.5,)\n",
    "cb = plt.colorbar(im, ticks=range(9), orientation=\"horizontal\")\n",
    "plt.title('dominant Burning Land Cover')\n",
    "\n",
    "burninLC_hd = scipy.ndimage.zoom(burninLC[::-1,:], 5, order=0) \n"
   ]
  },
  {
   "cell_type": "markdown",
   "id": "ec207e2f-fe97-4944-ba85-8950dc026274",
   "metadata": {},
   "source": [
    "conversion factor and area named are in `conversionFactor.txt`"
   ]
  },
  {
   "cell_type": "code",
   "execution_count": null,
   "id": "a81f6b16-af85-4629-99ff-5b887ba63826",
   "metadata": {},
   "outputs": [],
   "source": [
    "LCidx = pd.read_csv(directory+'conversionFactor.txt')\n",
    "LCidx.index += 1\n",
    "LCidx"
   ]
  },
  {
   "cell_type": "markdown",
   "id": "ceaaf12f-cdab-4c9f-8415-037cafb4234b",
   "metadata": {},
   "source": [
    "## Read in emission factors"
   ]
  },
  {
   "cell_type": "code",
   "execution_count": null,
   "id": "22b791ac-032b-4070-ad04-5a8d1475dde2",
   "metadata": {},
   "outputs": [],
   "source": [
    "data_EF = pd.read_csv(directory+'/GFED4_Emission_Factors_Summary.csv', header=10)\n",
    "EF_CO = np.array(data_EF.iloc[3])[1:]\n",
    "\n",
    "data_EF"
   ]
  },
  {
   "cell_type": "markdown",
   "id": "ab41555e-4ed0-4fac-9a0a-8f1a18a0d040",
   "metadata": {},
   "source": [
    "## Read in FRP"
   ]
  },
  {
   "cell_type": "markdown",
   "id": "ed92e669-03df-4543-80bc-b5221df37301",
   "metadata": {},
   "source": [
    "This is the most demanding term.\n",
    "FRP is coming from satellite observation. In the case of GFAS, it is still based on the MODIS sensor. A schematic view of the data processing to get from satellite observation to FRP needed in GFAS equation.\n",
    "- satellite detecte a fire and creata a hot spot. this is a point data with assoiated location (latitude,longitude), time (the time of the satellite aquisition) and FRP (KW). A hot spot is a pixel of the sensor that was tagged with a fire and to which is associated a radiative flux. Large fire can create mutiple hotspot at the same time. Hot spot are used in fire attack to monitor fire activity in Near Real Time (NRT) using product such like [FIRMS](https://firms.modaps.eosdis.nasa.gov/map/#d:24hrs;@0.0,0.0,3.0z)\n",
    "- you can use the archive of FIRMS to download hotspots observation from MODIS, VIIRS and LandSat. In `GFAS\\MODID-HotSpot/fire_archive_M-C61_490672.shp` we upload MODIS hotspot for the whole world for the time period `01-05-2023` to `30-11-2023`.\n",
    "- To use Emission calculation in atmospheric model, it requires to be gridded. So that the hotspot information need to be spatially and temporally integrated to create map of timely FRP (kW/day/m2). The spatial integration is relatively straighforward, while the time integartion requires to make some assumption as gap observation can exist. For example with the MODIS sensor you have a minimum of 2 overpasses per day thanks to the two satellite Aqua and Terra. In GFAS the time integration is bases on simple data asimulation scheme that assume fire continuation between obervation ([Kaiser et al 2012](https://bg.copernicus.org/articles/9/527/2012/))."
   ]
  },
  {
   "cell_type": "markdown",
   "id": "0a2650f1-e230-4918-abc5-496fd5023747",
   "metadata": {},
   "source": [
    "Let first looks at hotspot data in `GFAS\\MODID-HotSpot/fire_archive_M-C61_490672.shp`"
   ]
  },
  {
   "cell_type": "code",
   "execution_count": null,
   "id": "4e6df657-dae3-4ee4-ba8f-780940920285",
   "metadata": {},
   "outputs": [],
   "source": [
    "hotspots = gpd.read_file(directory+'MODID-HotSpot/fire_archive_M-C61_490672.shp')\n",
    "print(len(hotspots) +' hostops found')\n",
    "print('show below 10 first hotspots')\n",
    "markersize[:10]"
   ]
  },
  {
   "cell_type": "code",
   "execution_count": null,
   "id": "8dbd7829-9f3d-405d-81d2-c91aea971bee",
   "metadata": {},
   "outputs": [],
   "source": [
    "hotspots.plot(markersize=0.1, alpha=.3)\n",
    "plt.title('hot spots 01-05` to `30-11-2023')"
   ]
  },
  {
   "cell_type": "markdown",
   "id": "c3c5c05c-934f-4946-8254-271c27a09e42",
   "metadata": {},
   "source": [
    "The global impact of fire is quite straitforward. We do not need to plot the map to see the border countour. Let see now the grided version provided by GAFS for the same period. As with FIRMS, data are on open access and can be retreive from the copernicus data server [here](https://ads.atmosphere.copernicus.eu/cdsapp#!/dataset/cams-global-fire-emissions-gfas?tab=overview\n",
    ").\n",
    "\n",
    "Can you plot a zoom over west europe for example?\n",
    "\n",
    "The daily FRP at 0.1 degree resolution is avaible for the same time period as above in the file `GFAS/GFAS-FRP-05to11-2023.nc`"
   ]
  },
  {
   "cell_type": "code",
   "execution_count": null,
   "id": "28c0b76b-8baa-426b-9b00-cf92edece93b",
   "metadata": {},
   "outputs": [],
   "source": [
    "frpgfas = Dataset(directory+'GFAS-FRP-05to11-2023.nc','r')\n",
    "frpgfas.variables.keys()"
   ]
  },
  {
   "cell_type": "markdown",
   "id": "b84d6f64-b88b-44d3-bc29-07ca1316c5c4",
   "metadata": {},
   "source": [
    "you can see form the above print, that we have two variables in this fire, `frpfire` and `mami`. to see what is `mami` you can run simply"
   ]
  },
  {
   "cell_type": "code",
   "execution_count": null,
   "id": "5eff3309-5346-4603-8676-9232a0940df6",
   "metadata": {},
   "outputs": [],
   "source": [
    "frpgfas['mami'].ncattrs # and check in attribute the long name comment."
   ]
  },
  {
   "cell_type": "code",
   "execution_count": null,
   "id": "444109fb-f76d-470a-b7ed-f6bd4ca974fc",
   "metadata": {},
   "outputs": [],
   "source": [
    "#now to plot frpfire sum over the time period\n",
    "fre = frpgfas.variables['frpfire'][:,:,:].sum(axis=0) * 3600*24 # Fire Radiative Energy (J)/m2"
   ]
  },
  {
   "cell_type": "code",
   "execution_count": null,
   "id": "b0cc4ef0-f3cb-47f2-97a6-0bbcc158fd25",
   "metadata": {},
   "outputs": [],
   "source": [
    "plt.imshow( np.ma.masked_where(burninLC_hd==0,fre),vmax=10000 ) \n",
    "plt.colorbar( orientation=\"horizontal\")\n",
    "plt.title('FRE over the time period 01-05 to 30-11-2023 (J/m2)')"
   ]
  },
  {
   "cell_type": "markdown",
   "id": "1bf71d8e-3dd1-474f-aec5-1842acb52d2a",
   "metadata": {},
   "source": [
    "**TO COME** \n",
    "add on a small subset like spain, show both hotspot and gridded FWI\n",
    "compute a density of hotspot and show correlation with FRE\n",
    "\n",
    "compute MD and emission and compare with GFAS data\n",
    "\n",
    "compute the emission from elpont de vilomara.\n",
    "for this I need to change 2023 to 2022 in all data here"
   ]
  },
  {
   "cell_type": "markdown",
   "id": "131f980b-d57a-40df-9f6c-6dd666fe0967",
   "metadata": {},
   "source": [
    "## To go further"
   ]
  },
  {
   "cell_type": "markdown",
   "id": "4334bfb2-77e4-4b3d-82cc-0f990bdad10d",
   "metadata": {},
   "source": [
    "1. "
   ]
  }
 ],
 "metadata": {
  "kernelspec": {
   "display_name": "Python 3 (ipykernel)",
   "language": "python",
   "name": "python3"
  },
  "language_info": {
   "codemirror_mode": {
    "name": "ipython",
    "version": 3
   },
   "file_extension": ".py",
   "mimetype": "text/x-python",
   "name": "python",
   "nbconvert_exporter": "python",
   "pygments_lexer": "ipython3",
   "version": "3.11.2"
  }
 },
 "nbformat": 4,
 "nbformat_minor": 5
}
