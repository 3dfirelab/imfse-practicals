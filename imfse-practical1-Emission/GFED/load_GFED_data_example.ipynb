{
 "cells": [
  {
   "cell_type": "markdown",
   "id": "2f1e285a-c911-4fa3-9577-8b87af9e13e5",
   "metadata": {},
   "source": [
    "<img style=\"float: left;\" src=\"./images/logo.png\" width=\"400\"/>"
   ]
  },
  {
   "cell_type": "markdown",
   "id": "865d8057-2af8-40fe-a9e4-0110c9eb87e6",
   "metadata": {},
   "source": [
    "This code is from the official GFED website"
   ]
  },
  {
   "cell_type": "code",
   "execution_count": null,
   "id": "b395f147-2def-49fb-ba3c-efb13305cc7e",
   "metadata": {},
   "outputs": [],
   "source": [
    "months       = '01','02','03','04','05','06','07','08','09','10','11','12'\n",
    "sources      = 'SAVA','BORF','TEMF','DEFO','PEAT','AGRI'"
   ]
  },
  {
   "cell_type": "markdown",
   "id": "811747c1-6109-464b-87ea-1a8d5d57ce6c",
   "metadata": {},
   "source": [
    "In this example we will calculate annual CO emissions for the 14 GFED basisregions over 1997-2014.\n",
    "The distributed version of GFED4 stopped in 2024, so that we could not look at el pont de Vilomara here. [GFED5](https://essd.copernicus.org/articles/15/5227/2023/essd-15-5227-2023-discussion.html) is also available but stopped in 2020. \n",
    "\n",
    "Please adjust the code to calculate emissions for your own specie, region, and time period of interest. \n",
    "\n",
    "Please first get (from )the GFED4.1s files and the GFED4_Emission_Factors_Summary.csv to your computer and adjust the directory where you placed them below.\n",
    "- data is available [here](https://www.dropbox.com/scl/fi/fgi1m3nnk436k9a0bhdpi/GFED4.1s.tar.gz?rlkey=vlaobhovce3v3lhr6uhfk4fd5&st=989ruqnp&dl=0)\n",
    "- or if you are on andromeda the data are availabel here `/data/IMFSE/FBM_unit05/Emission/GFED4.1s`\n"
   ]
  },
  {
   "cell_type": "markdown",
   "id": "fb882cf5-3a7e-4919-a6fd-61d67914f131",
   "metadata": {},
   "source": [
    "In GFED4.1s biomass burning dry matter (DM) emissions are provided in kg DM/m2/month in the yearly file `GFED4.1s_xxxx.hdf5`. This corresponds to the mass of burnt fuel"
   ]
  },
  {
   "cell_type": "markdown",
   "id": "ceaaf12f-cdab-4c9f-8415-037cafb4234b",
   "metadata": {},
   "source": [
    "## Read in emission factors"
   ]
  },
  {
   "cell_type": "code",
   "execution_count": null,
   "id": "0bf3782e-7fe2-401e-8740-2de557ff442f",
   "metadata": {},
   "outputs": [],
   "source": [
    "import numpy as np\n",
    "import pandas as pd\n",
    "import h5py\n",
    "import matplotlib.pyplot as plt"
   ]
  },
  {
   "cell_type": "code",
   "execution_count": null,
   "id": "df331aa6-1df1-4d36-b9bd-c11a432f282c",
   "metadata": {},
   "outputs": [],
   "source": [
    "directory    = '/data/IMFSE/FBM_unit05/Emission/GFED4.1s/data/'"
   ]
  },
  {
   "cell_type": "code",
   "execution_count": null,
   "id": "22b791ac-032b-4070-ad04-5a8d1475dde2",
   "metadata": {},
   "outputs": [],
   "source": [
    "species = [] # names of the different gas and aerosol species\n",
    "EFs     = np.zeros((41, 6)) # 41 species, 6 sources\n",
    "\n",
    "data_EF = pd.read_csv(directory+'/GFED4_Emission_Factors_Summary.csv', header=10)\n",
    "EF_CO = np.array(data_EF.iloc[3])[1:]\n",
    "\n",
    "\n",
    "# we are interested in CO for this example (4th row):\n",
    "\n",
    "start_year = 1997\n",
    "end_year   = 2014"
   ]
  },
  {
   "cell_type": "markdown",
   "id": "af9d61c6-b40a-4965-ad84-bbcc2b9f4f13",
   "metadata": {},
   "source": [
    "## Make table with summed DM emissions for each region, year, and source"
   ]
  },
  {
   "cell_type": "markdown",
   "id": "13cec645-a312-4c02-a367-27c537988a0a",
   "metadata": {},
   "source": [
    "The code below load the burnt dry mass computed per month from the burn area product. It is available at global scale, monthly, and at 0.25 degree spatial resolution from mid-1995 through 2014. The data were derived by combining 500-m MODIS burned area maps with active fire data from the Tropical Rainfall Measuring Mission (TRMM) Visible and Infrared Scanner (VIRS) and the Along-Track Scanning Radiometer (ATSR) family of sensors. For additional information, refer to [Giglio et al., 2013](https://doi.org/10.1002/jgrg.20042)."
   ]
  },
  {
   "cell_type": "code",
   "execution_count": null,
   "id": "1f15fc91-94ff-4644-b416-96e14b0d8e4e",
   "metadata": {},
   "outputs": [],
   "source": [
    "\n",
    "CO_table = np.zeros((15, end_year - start_year + 1)) # region, year\n",
    "years =[]\n",
    "\n",
    "for year in range(start_year, end_year+1):\n",
    "    string = directory+'/GFED4.1s_'+str(year)+'.hdf5'\n",
    "    f = h5py.File(string, 'r')\n",
    "\n",
    "    years.append(year)\n",
    "    \n",
    "    if year == start_year: # these are time invariable    \n",
    "        basis_regions = f['/ancill/basis_regions'][:]\n",
    "        grid_area     = f['/ancill/grid_cell_area'][:]\n",
    "\n",
    "        Regions=['BONA', 'TENA', 'CEAM', 'NHSA', 'SHSA', 'EURO', 'MIDE', 'NHAF' ,'SHAF', 'BOAS', 'TEAS', 'SEAS', 'EQAS', 'AUST', 'Global' ]\n",
    "        #Boreal North America (BONA), \n",
    "        #Temperate North America (TENA), \n",
    "        #Central America (CEAM), \n",
    "        #Northern Hemisphere South America (NHSA), \n",
    "        #Southern Hemisphere South America (SHSA), \n",
    "        #Europe (EURO), \n",
    "        #Middle East (MIDE), \n",
    "        #Northern Hemisphere Africa (NHAF), \n",
    "        #Southern Hemisphere Africa (SHAF), \n",
    "        #Boreal Asia (BOAS), \n",
    "        #Central Asia (CEAS), \n",
    "        #Southeast Asia (SEAS), \n",
    "        #Equatorial Asia (EQAS) \n",
    "        #Australia and New Zealand (AUST).\n",
    "    \n",
    "    CO_emissions = np.zeros((720, 1440))\n",
    "    for month in range(12):\n",
    "        # read in DM emissions\n",
    "        string = '/emissions/'+months[month]+'/DM'\n",
    "        DM_emissions = f[string][:]\n",
    "        for source in range(6): # 6 source of fire emission are: SAVA,BORF,TEMF,DEFO,PEAT,AGRI\n",
    "            # read in the fractional contribution of each source\n",
    "            string = '/emissions/'+months[month]+'/partitioning/DM_'+sources[source]\n",
    "            contribution = f[string][:]\n",
    "            # calculate CO emissions as the product of DM emissions (kg DM per \n",
    "            # m2 per month), the fraction the specific source contributes to \n",
    "            # this (unitless), and the emission factor (g CO per kg DM burned)\n",
    "            CO_emissions += DM_emissions * contribution * float(EF_CO[source])\n",
    "    \n",
    "    \n",
    "    # fill table with total values for the globe (row 15) or basisregion (1-14)\n",
    "    for region in range(15):\n",
    "        if region == 14:\n",
    "            mask = np.ones((720, 1440))\n",
    "        else:\n",
    "            mask = basis_regions == (region + 1)            \n",
    "    \n",
    "        CO_table[region, year-start_year] = np.sum(grid_area * mask * CO_emissions)\n",
    "        \n",
    "    print(year)\n",
    "        \n",
    "# convert to Tg CO \n",
    "CO_table = CO_table / 1E12\n",
    "#convert to dataframe\n",
    "CO_df = pd.DataFrame(CO_table, index=Regions, columns=years)\n",
    "print('yearly CO emission in Tg per regions area')\n",
    "print(CO_df)\n"
   ]
  },
  {
   "cell_type": "markdown",
   "id": "131f980b-d57a-40df-9f6c-6dd666fe0967",
   "metadata": {},
   "source": [
    "## To go further"
   ]
  },
  {
   "cell_type": "markdown",
   "id": "4334bfb2-77e4-4b3d-82cc-0f990bdad10d",
   "metadata": {},
   "source": [
    "1. on the 18 years, which region is the principal source of CO emitted from burning vegetation?\n",
    "2. Can you compute the same for CO2? Is the spatial distribution per area the same?\n",
    "3. Using the result from the last exercise of the introductionary python lecture (see [here](https://github.com/3dfirelab/python-intro-course/blob/master/06-pandasExcercise.ipynb)) can you calculate total carbone emission for you country? "
   ]
  },
  {
   "cell_type": "code",
   "execution_count": null,
   "id": "05aebaf8-243a-4dd2-a2b7-a6598c2462df",
   "metadata": {},
   "outputs": [],
   "source": []
  }
 ],
 "metadata": {
  "kernelspec": {
   "display_name": "Python 3 (ipykernel)",
   "language": "python",
   "name": "python3"
  },
  "language_info": {
   "codemirror_mode": {
    "name": "ipython",
    "version": 3
   },
   "file_extension": ".py",
   "mimetype": "text/x-python",
   "name": "python",
   "nbconvert_exporter": "python",
   "pygments_lexer": "ipython3",
   "version": "3.11.2"
  }
 },
 "nbformat": 4,
 "nbformat_minor": 5
}
