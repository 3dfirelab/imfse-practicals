{
 "cells": [
  {
   "cell_type": "markdown",
   "id": "2f1e285a-c911-4fa3-9577-8b87af9e13e5",
   "metadata": {},
   "source": [
    "<img style=\"float: left;\" src=\"./images/logo.png\" width=\"400\"/>"
   ]
  },
  {
   "cell_type": "markdown",
   "id": "865d8057-2af8-40fe-a9e4-0110c9eb87e6",
   "metadata": {},
   "source": [
    "this code is from the official GFED website"
   ]
  },
  {
   "cell_type": "code",
   "execution_count": 1,
   "id": "b395f147-2def-49fb-ba3c-efb13305cc7e",
   "metadata": {},
   "outputs": [],
   "source": [
    "months       = '01','02','03','04','05','06','07','08','09','10','11','12'\n",
    "sources      = 'SAVA','BORF','TEMF','DEFO','PEAT','AGRI'"
   ]
  },
  {
   "cell_type": "markdown",
   "id": "811747c1-6109-464b-87ea-1a8d5d57ce6c",
   "metadata": {},
   "source": [
    "in this example we will calculate annual CO emissions for the 14 GFED basisregions over 1997-2014. \n",
    "\n",
    "Please adjust the code to calculate emissions for your own specie, region, and time period of interest. \n",
    "\n",
    "Please first get (from )the GFED4.1s files and the GFED4_Emission_Factors_Summary.csv to your computer and adjust the directory where you placed them below.\n",
    "- data is available [here](https://www.dropbox.com/scl/fi/fgi1m3nnk436k9a0bhdpi/GFED4.1s.tar.gz?rlkey=vlaobhovce3v3lhr6uhfk4fd5&st=989ruqnp&dl=0)\n",
    "- or if you are on andromeda the data are availabel here `/data/IMFSE/FBM_unit05/Emission/GFED4.1s`\n"
   ]
  },
  {
   "cell_type": "markdown",
   "id": "fb882cf5-3a7e-4919-a6fd-61d67914f131",
   "metadata": {},
   "source": [
    "In GFED4.1s biomass burning dry matter (DM) emissions are provided in kg DM/m2/month in the yearly file `GFED4.1s_xxxx.hdf5`. This corresponds to the mass of burnt fuel"
   ]
  },
  {
   "cell_type": "markdown",
   "id": "ceaaf12f-cdab-4c9f-8415-037cafb4234b",
   "metadata": {},
   "source": [
    "## Read in emission factors"
   ]
  },
  {
   "cell_type": "code",
   "execution_count": 2,
   "id": "0bf3782e-7fe2-401e-8740-2de557ff442f",
   "metadata": {},
   "outputs": [],
   "source": [
    "import numpy as np\n",
    "import pandas as pd\n",
    "import h5py\n",
    "import matplotlib.pyplot as plt"
   ]
  },
  {
   "cell_type": "code",
   "execution_count": 3,
   "id": "df331aa6-1df1-4d36-b9bd-c11a432f282c",
   "metadata": {},
   "outputs": [],
   "source": [
    "directory    = '/data/IMFSE/FBM_unit05/Emission/GFED4.1s/data/'"
   ]
  },
  {
   "cell_type": "code",
   "execution_count": 4,
   "id": "22b791ac-032b-4070-ad04-5a8d1475dde2",
   "metadata": {},
   "outputs": [],
   "source": [
    "species = [] # names of the different gas and aerosol species\n",
    "EFs     = np.zeros((41, 6)) # 41 species, 6 sources\n",
    "\n",
    "data_EF = pd.read_csv(directory+'/GFED4_Emission_Factors_Summary.csv', header=10)\n",
    "EF_CO = np.array(data_EF.iloc[3])[1:]\n",
    "\n",
    "\n",
    "# we are interested in CO for this example (4th row):\n",
    "\n",
    "start_year = 1997\n",
    "end_year   = 2014"
   ]
  },
  {
   "cell_type": "markdown",
   "id": "af9d61c6-b40a-4965-ad84-bbcc2b9f4f13",
   "metadata": {},
   "source": [
    "## Make table with summed DM emissions for each region, year, and source"
   ]
  },
  {
   "cell_type": "markdown",
   "id": "13cec645-a312-4c02-a367-27c537988a0a",
   "metadata": {},
   "source": [
    "The code below load the burnt dry mass computed per month from the burn area product. It is available at global scale, monthly, and at 0.25 degree spatial resolution from mid-1995 through 2014. The data were derived by combining 500-m MODIS burned area maps with active fire data from the Tropical Rainfall Measuring Mission (TRMM) Visible and Infrared Scanner (VIRS) and the Along-Track Scanning Radiometer (ATSR) family of sensors. For additional information, refer to [Giglio et al., 2013](https://doi.org/10.1002/jgrg.20042)."
   ]
  },
  {
   "cell_type": "code",
   "execution_count": 5,
   "id": "1f15fc91-94ff-4644-b416-96e14b0d8e4e",
   "metadata": {},
   "outputs": [
    {
     "name": "stdout",
     "output_type": "stream",
     "text": [
      "1997\n",
      "1998\n",
      "1999\n",
      "2000\n",
      "2001\n",
      "2002\n",
      "2003\n",
      "2004\n",
      "2005\n",
      "2006\n",
      "2007\n",
      "2008\n",
      "2009\n",
      "2010\n",
      "2011\n",
      "2012\n",
      "2013\n",
      "2014\n",
      "yearly CO emission in Tg per regions area\n",
      "              1997        1998        1999        2000        2001  \\\n",
      "BONA      6.712560   24.116295   10.048192    5.523846    3.036932   \n",
      "TENA      1.827541    2.196653    3.452715    3.423350    1.894193   \n",
      "CEAM      3.532858   30.003065    4.044757    9.256392    2.613084   \n",
      "NHSA      5.348964    7.500564    3.996341    5.219141    5.679365   \n",
      "SHSA     51.440661   69.584390   63.098720   29.131511   26.480714   \n",
      "EURO      1.388813    1.522301    1.122716    3.520102    2.109920   \n",
      "MIDE      0.164691    0.465797    0.292002    0.291255    0.268512   \n",
      "NHAF     67.714618   89.885038   72.189567   77.614075   65.052657   \n",
      "SHAF     82.169430   96.298947   81.862585   77.350403  104.793631   \n",
      "BOAS     23.787223   73.892213   25.733273   28.712728   26.055807   \n",
      "TEAS     16.403428   14.859664    9.698929    9.119672   11.029806   \n",
      "SEAS     12.816872   27.826735   22.230883   16.108550    9.834112   \n",
      "EQAS    299.849685   21.852181   18.339888    6.324497    9.055189   \n",
      "AUST     14.500222   13.235738   25.577465   16.637849   24.395414   \n",
      "Global  587.774972  473.471634  341.767656  288.300061  292.508354   \n",
      "\n",
      "              2002        2003        2004        2005        2006  \\\n",
      "BONA     23.215209   14.536750   27.089686   18.681726   13.312017   \n",
      "TENA      2.926240    2.772448    2.169272    2.456773    3.246291   \n",
      "CEAM      3.509161   10.871073    2.594409    8.547834    4.665963   \n",
      "NHSA      3.192058    9.330445    4.641932    3.470294    2.926189   \n",
      "SHSA     48.626692   39.788552   59.851584   74.626636   34.441149   \n",
      "EURO      0.897793    1.649581    1.324431    1.457506    1.347652   \n",
      "MIDE      0.247295    0.307834    0.323859    0.299485    0.313289   \n",
      "NHAF     68.420923   61.334357   57.115242   70.876513   56.347646   \n",
      "SHAF     87.301255   91.276984   91.529023   96.214569   90.443127   \n",
      "BOAS     42.291505   73.558103   10.762001   16.776803   32.954606   \n",
      "TEAS     13.953423   10.713987   12.025251   11.397386   12.989348   \n",
      "SEAS     11.523947   13.349774   26.672258   19.842615   15.261652   \n",
      "EQAS     65.589013   16.784253   41.551529   22.150188   99.002888   \n",
      "AUST     22.224648   18.157262   16.722521    9.508875   18.645615   \n",
      "Global  394.031025  364.527079  354.478198  356.421697  386.004773   \n",
      "\n",
      "              2007        2008        2009        2010        2011  \\\n",
      "BONA     10.285208    8.256071   10.767712   19.329582   13.153562   \n",
      "TENA      4.738350    3.537972    2.427957    2.859341    3.250302   \n",
      "CEAM      5.278977    4.548545    5.320212    3.229445    7.364683   \n",
      "NHSA      6.267748    3.588066    3.929599    4.640624    1.831893   \n",
      "SHSA     89.213917   29.921477   16.157629   92.454113   23.701130   \n",
      "EURO      1.661915    1.546884    0.941453    0.921170    1.348563   \n",
      "MIDE      0.410498    0.247084    0.440124    0.461558    0.393407   \n",
      "NHAF     61.699561   61.596833   53.830626   49.408471   56.632084   \n",
      "SHAF     84.654076   91.593500   91.240416   98.453321   94.045522   \n",
      "BOAS     14.811624   45.916909   16.899277   21.919305   26.523630   \n",
      "TEAS     13.411807   15.659601   13.574332    9.906895    7.988324   \n",
      "SEAS     26.355302   11.285306   19.105726   23.746056   13.069702   \n",
      "EQAS      5.703509    4.581263   54.995077    3.189434   21.176270   \n",
      "AUST     14.275100    9.231089   15.247621    5.723290   21.737339   \n",
      "Global  338.859765  291.947063  304.972415  336.308654  292.334138   \n",
      "\n",
      "              2012        2013        2014  \n",
      "BONA     13.681917   27.170445   31.160299  \n",
      "TENA      4.141402    2.706534    3.038820  \n",
      "CEAM      2.701722    6.525271    2.411448  \n",
      "NHSA      2.602856    2.963382    4.737330  \n",
      "SHSA     45.892602   21.817676   31.740338  \n",
      "EURO      2.038783    0.916038    0.881814  \n",
      "MIDE      0.353472    0.341329    0.326163  \n",
      "NHAF     50.787773   53.470833   50.419279  \n",
      "SHAF     85.787163   93.444519   85.474370  \n",
      "BOAS     56.832205   22.123178   33.203559  \n",
      "TEAS      9.138972    6.762145   12.033791  \n",
      "SEAS     18.510023   18.542309   22.548061  \n",
      "EQAS     21.035087   15.451230   57.722247  \n",
      "AUST     22.185885   10.905064   15.148481  \n",
      "Global  335.760684  283.222318  350.914993  \n"
     ]
    }
   ],
   "source": [
    "\n",
    "CO_table = np.zeros((15, end_year - start_year + 1)) # region, year\n",
    "years =[]\n",
    "\n",
    "for year in range(start_year, end_year+1):\n",
    "    string = directory+'/GFED4.1s_'+str(year)+'.hdf5'\n",
    "    f = h5py.File(string, 'r')\n",
    "\n",
    "    years.append(year)\n",
    "    \n",
    "    if year == start_year: # these are time invariable    \n",
    "        basis_regions = f['/ancill/basis_regions'][:]\n",
    "        grid_area     = f['/ancill/grid_cell_area'][:]\n",
    "\n",
    "        Regions=['BONA', 'TENA', 'CEAM', 'NHSA', 'SHSA', 'EURO', 'MIDE', 'NHAF' ,'SHAF', 'BOAS', 'TEAS', 'SEAS', 'EQAS', 'AUST', 'Global' ]\n",
    "        #Boreal North America (BONA), \n",
    "        #Temperate North America (TENA), \n",
    "        #Central America (CEAM), \n",
    "        #Northern Hemisphere South America (NHSA), \n",
    "        #Southern Hemisphere South America (SHSA), \n",
    "        #Europe (EURO), \n",
    "        #Middle East (MIDE), \n",
    "        #Northern Hemisphere Africa (NHAF), \n",
    "        #Southern Hemisphere Africa (SHAF), \n",
    "        #Boreal Asia (BOAS), \n",
    "        #Central Asia (CEAS), \n",
    "        #Southeast Asia (SEAS), \n",
    "        #Equatorial Asia (EQAS) \n",
    "        #Australia and New Zealand (AUST).\n",
    "    \n",
    "    CO_emissions = np.zeros((720, 1440))\n",
    "    for month in range(12):\n",
    "        # read in DM emissions\n",
    "        string = '/emissions/'+months[month]+'/DM'\n",
    "        DM_emissions = f[string][:]\n",
    "        for source in range(6): # 6 source of fire emission are: SAVA,BORF,TEMF,DEFO,PEAT,AGRI\n",
    "            # read in the fractional contribution of each source\n",
    "            string = '/emissions/'+months[month]+'/partitioning/DM_'+sources[source]\n",
    "            contribution = f[string][:]\n",
    "            # calculate CO emissions as the product of DM emissions (kg DM per \n",
    "            # m2 per month), the fraction the specific source contributes to \n",
    "            # this (unitless), and the emission factor (g CO per kg DM burned)\n",
    "            CO_emissions += DM_emissions * contribution * float(EF_CO[source])\n",
    "    \n",
    "    \n",
    "    # fill table with total values for the globe (row 15) or basisregion (1-14)\n",
    "    for region in range(15):\n",
    "        if region == 14:\n",
    "            mask = np.ones((720, 1440))\n",
    "        else:\n",
    "            mask = basis_regions == (region + 1)            \n",
    "    \n",
    "        CO_table[region, year-start_year] = np.sum(grid_area * mask * CO_emissions)\n",
    "        \n",
    "    print(year)\n",
    "        \n",
    "# convert to Tg CO \n",
    "CO_table = CO_table / 1E12\n",
    "#convert to dataframe\n",
    "CO_df = pd.DataFrame(CO_table, index=Regions, columns=years)\n",
    "print('yearly CO emission in Tg per regions area')\n",
    "print(CO_df)\n"
   ]
  },
  {
   "cell_type": "markdown",
   "id": "131f980b-d57a-40df-9f6c-6dd666fe0967",
   "metadata": {},
   "source": [
    "## To go further"
   ]
  },
  {
   "cell_type": "markdown",
   "id": "4334bfb2-77e4-4b3d-82cc-0f990bdad10d",
   "metadata": {},
   "source": [
    "1. on the 18 years, which region is the principal source of CO emitted from burning vegetation?\n",
    "2. Can you compute the same for CO2? Is the spatial distribution per area the same?\n",
    "3. Using the result from the last exercise of the introductionary python lecture (see [here](https://github.com/3dfirelab/python-intro-course/blob/master/06-pandasExcercise.ipynb)) can you calculate total carbone emission for you country? "
   ]
  },
  {
   "cell_type": "code",
   "execution_count": null,
   "id": "05aebaf8-243a-4dd2-a2b7-a6598c2462df",
   "metadata": {},
   "outputs": [],
   "source": []
  }
 ],
 "metadata": {
  "kernelspec": {
   "display_name": "Python 3 (ipykernel)",
   "language": "python",
   "name": "python3"
  },
  "language_info": {
   "codemirror_mode": {
    "name": "ipython",
    "version": 3
   },
   "file_extension": ".py",
   "mimetype": "text/x-python",
   "name": "python",
   "nbconvert_exporter": "python",
   "pygments_lexer": "ipython3",
   "version": "3.11.2"
  }
 },
 "nbformat": 4,
 "nbformat_minor": 5
}
